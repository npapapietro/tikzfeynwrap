{
 "cells": [
  {
   "cell_type": "code",
   "execution_count": 1,
   "source": [
    "import src\n",
    "\n",
    "tikz = src.TikzFeynWrap()\n",
    "tikz.startup()"
   ],
   "outputs": [],
   "metadata": {}
  },
  {
   "cell_type": "code",
   "execution_count": 2,
   "source": [
    "tex= r\"\"\"\n",
    "\\feynmandiagram [horizontal=a to b] {\n",
    " i1 -- [fermion] a -- [fermion] i2,\n",
    " a -- [photon] b,\n",
    " f1 -- [fermion] b -- [fermion] f2,\n",
    "};\"\"\"\n",
    "\n",
    "\n",
    "tikz(tex)"
   ],
   "outputs": [
    {
     "output_type": "display_data",
     "data": {
      "image/svg+xml": "<svg xmlns=\"http://www.w3.org/2000/svg\" xmlns:xlink=\"http://www.w3.org/1999/xlink\" width=\"106.313pt\" height=\"69.29pt\" viewBox=\"0 0 106.313 69.29\" version=\"1.1\">\n<defs>\n<clipPath id=\"clip1\">\n  <path d=\"M 0 29 L 38 29 L 38 69.289062 L 0 69.289062 Z M 0 29 \"/>\n</clipPath>\n<clipPath id=\"clip2\">\n  <path d=\"M 69 0 L 106.3125 0 L 106.3125 41 L 69 41 Z M 69 0 \"/>\n</clipPath>\n<clipPath id=\"clip3\">\n  <path d=\"M 69 29 L 106.3125 29 L 106.3125 69.289062 L 69 69.289062 Z M 69 29 \"/>\n</clipPath>\n</defs>\n<g id=\"surface1\">\n<g clip-path=\"url(#clip1)\" clip-rule=\"nonzero\">\n<path style=\"fill:none;stroke-width:0.3985;stroke-linecap:butt;stroke-linejoin:miter;stroke:rgb(0%,0%,0%);stroke-opacity:1;stroke-miterlimit:10;\" d=\"M -0.0011875 0.000375 L 31.350375 34.211313 \" transform=\"matrix(1,0,0,-1,0.884,68.891)\"/>\n</g>\n<path style=\" stroke:none;fill-rule:nonzero;fill:rgb(0%,0%,0%);fill-opacity:1;\" d=\"M 19.042969 49.074219 L 12.570312 52.09375 L 16.597656 55.785156 Z M 19.042969 49.074219 \"/>\n<path style=\"fill:none;stroke-width:0.3985;stroke-linecap:butt;stroke-linejoin:miter;stroke:rgb(0%,0%,0%);stroke-opacity:1;stroke-miterlimit:10;\" d=\"M 31.350375 34.211313 L -0.243375 68.887094 \" transform=\"matrix(1,0,0,-1,0.884,68.891)\"/>\n<path style=\" stroke:none;fill-rule:nonzero;fill:rgb(0%,0%,0%);fill-opacity:1;\" d=\"M 13.964844 14.625 L 16.386719 21.34375 L 20.425781 17.660156 Z M 13.964844 14.625 \"/>\n<path style=\"fill:none;stroke-width:0.3985;stroke-linecap:butt;stroke-linejoin:miter;stroke:rgb(0%,0%,0%);stroke-opacity:1;stroke-miterlimit:10;\" d=\"M 31.350375 34.211313 L 31.862094 34.211313 L 32.377719 34.836313 L 32.889437 35.289438 L 33.401156 35.457406 L 33.916781 35.289438 L 34.4285 34.836313 L 34.944125 34.211313 L 35.455844 33.590219 L 35.971469 33.133188 L 36.483187 32.965219 L 36.998812 33.133188 L 37.510531 33.590219 L 38.026156 34.211313 L 38.537875 34.836313 L 39.0535 35.289438 L 39.565219 35.457406 L 40.076937 35.289438 L 40.592562 34.836313 L 41.104281 34.211313 L 41.619906 33.590219 L 42.131625 33.133188 L 42.64725 32.965219 L 43.158969 33.133188 L 43.674594 33.590219 L 44.186312 34.211313 L 44.701937 34.836313 L 45.213656 35.289438 L 45.729281 35.457406 L 46.241 35.289438 L 46.752719 34.836313 L 47.268344 34.211313 L 47.780062 33.590219 L 48.295687 33.133188 L 48.807406 32.965219 L 49.323031 33.133188 L 49.83475 33.590219 L 50.350375 34.211313 L 50.862094 34.836313 L 51.377719 35.289438 L 51.889437 35.457406 L 52.405062 35.289438 L 52.916781 34.836313 L 53.4285 34.211313 L 53.944125 33.590219 L 54.455844 33.133188 L 54.971469 32.965219 L 55.483187 33.133188 L 55.998812 33.590219 L 56.510531 34.211313 L 57.026156 34.836313 L 57.537875 35.289438 L 58.0535 35.457406 L 58.565219 35.289438 L 59.080844 34.836313 L 59.592562 34.211313 L 60.104281 33.590219 L 60.619906 33.133188 L 61.131625 32.965219 L 61.64725 33.133188 L 62.158969 33.590219 L 62.674594 34.211313 L 63.186312 34.836313 L 63.701937 35.289438 L 64.213656 35.457406 L 64.729281 35.289438 L 65.241 34.836313 L 65.756625 34.211313 L 66.268344 33.590219 L 66.780062 33.133188 L 67.295687 32.965219 L 67.807406 33.133188 L 68.323031 33.590219 L 68.83475 34.211313 L 69.350375 34.836313 L 69.862094 35.289438 L 70.377719 35.457406 L 70.889437 35.289438 L 71.405062 34.836313 L 71.916781 34.211313 L 72.432406 33.590219 L 72.944125 33.133188 L 73.455844 32.965219 L 74.487094 34.211313 \" transform=\"matrix(1,0,0,-1,0.884,68.891)\"/>\n<g clip-path=\"url(#clip2)\" clip-rule=\"nonzero\">\n<path style=\"fill:none;stroke-width:0.3985;stroke-linecap:butt;stroke-linejoin:miter;stroke:rgb(0%,0%,0%);stroke-opacity:1;stroke-miterlimit:10;\" d=\"M 105.670687 68.891 L 74.487094 34.211313 \" transform=\"matrix(1,0,0,-1,0.884,68.891)\"/>\n</g>\n<path style=\" stroke:none;fill-rule:nonzero;fill:rgb(0%,0%,0%);fill-opacity:1;\" d=\"M 88.507812 20.070312 L 94.949219 16.992188 L 90.886719 13.339844 Z M 88.507812 20.070312 \"/>\n<g clip-path=\"url(#clip3)\" clip-rule=\"nonzero\">\n<path style=\"fill:none;stroke-width:0.3985;stroke-linecap:butt;stroke-linejoin:miter;stroke:rgb(0%,0%,0%);stroke-opacity:1;stroke-miterlimit:10;\" d=\"M 74.487094 34.211313 L 105.342562 0.0667813 \" transform=\"matrix(1,0,0,-1,0.884,68.891)\"/>\n</g>\n<path style=\" stroke:none;fill-rule:nonzero;fill:rgb(0%,0%,0%);fill-opacity:1;\" d=\"M 93.25 54.464844 L 90.855469 47.738281 L 86.800781 51.402344 Z M 93.25 54.464844 \"/>\n</g>\n</svg>",
      "text/plain": [
       "<IPython.core.display.SVG object>"
      ]
     },
     "metadata": {}
    }
   ],
   "metadata": {}
  }
 ],
 "metadata": {
  "orig_nbformat": 4,
  "language_info": {
   "name": "python",
   "version": "3.8.5",
   "mimetype": "text/x-python",
   "codemirror_mode": {
    "name": "ipython",
    "version": 3
   },
   "pygments_lexer": "ipython3",
   "nbconvert_exporter": "python",
   "file_extension": ".py"
  },
  "kernelspec": {
   "name": "python3",
   "display_name": "Python 3.8.5 64-bit ('base': conda)"
  },
  "interpreter": {
   "hash": "cb415529c3b446cd5ca1eb46a1bc560260efe8bdfadabb86beaeb2edbe87a219"
  }
 },
 "nbformat": 4,
 "nbformat_minor": 2
}